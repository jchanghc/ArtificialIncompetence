{
  "cells": [
    {
      "cell_type": "code",
      "source": [
        "! pip install -U openai-whisper"
      ],
      "outputs": [
        {
          "output_type": "stream",
          "name": "stdout",
          "text": "Requirement already satisfied: openai-whisper in /anaconda/envs/azureml_py38/lib/python3.8/site-packages (20230314)\nRequirement already satisfied: triton==2.0.0 in /anaconda/envs/azureml_py38/lib/python3.8/site-packages (from openai-whisper) (2.0.0)\nRequirement already satisfied: numba in /anaconda/envs/azureml_py38/lib/python3.8/site-packages (from openai-whisper) (0.55.2)\nRequirement already satisfied: numpy in /anaconda/envs/azureml_py38/lib/python3.8/site-packages (from openai-whisper) (1.21.6)\nRequirement already satisfied: torch in /anaconda/envs/azureml_py38/lib/python3.8/site-packages (from openai-whisper) (2.0.0)\nRequirement already satisfied: tqdm in /anaconda/envs/azureml_py38/lib/python3.8/site-packages (from openai-whisper) (4.64.1)\nRequirement already satisfied: more-itertools in /anaconda/envs/azureml_py38/lib/python3.8/site-packages (from openai-whisper) (9.1.0)\nRequirement already satisfied: tiktoken==0.3.1 in /anaconda/envs/azureml_py38/lib/python3.8/site-packages (from openai-whisper) (0.3.1)\nRequirement already satisfied: ffmpeg-python==0.2.0 in /anaconda/envs/azureml_py38/lib/python3.8/site-packages (from openai-whisper) (0.2.0)\nRequirement already satisfied: future in /anaconda/envs/azureml_py38/lib/python3.8/site-packages (from ffmpeg-python==0.2.0->openai-whisper) (0.18.3)\nRequirement already satisfied: regex>=2022.1.18 in /anaconda/envs/azureml_py38/lib/python3.8/site-packages (from tiktoken==0.3.1->openai-whisper) (2022.10.31)\nRequirement already satisfied: requests>=2.26.0 in /anaconda/envs/azureml_py38/lib/python3.8/site-packages (from tiktoken==0.3.1->openai-whisper) (2.28.2)\nRequirement already satisfied: cmake in /anaconda/envs/azureml_py38/lib/python3.8/site-packages (from triton==2.0.0->openai-whisper) (3.26.3)\nRequirement already satisfied: filelock in /anaconda/envs/azureml_py38/lib/python3.8/site-packages (from triton==2.0.0->openai-whisper) (3.9.0)\nRequirement already satisfied: lit in /anaconda/envs/azureml_py38/lib/python3.8/site-packages (from triton==2.0.0->openai-whisper) (16.0.2)\nRequirement already satisfied: llvmlite<0.39,>=0.38.0rc1 in /anaconda/envs/azureml_py38/lib/python3.8/site-packages (from numba->openai-whisper) (0.38.1)\nRequirement already satisfied: setuptools in /anaconda/envs/azureml_py38/lib/python3.8/site-packages (from numba->openai-whisper) (67.7.2)\nRequirement already satisfied: typing-extensions in /anaconda/envs/azureml_py38/lib/python3.8/site-packages (from torch->openai-whisper) (4.4.0)\nRequirement already satisfied: sympy in /anaconda/envs/azureml_py38/lib/python3.8/site-packages (from torch->openai-whisper) (1.11.1)\nRequirement already satisfied: networkx in /anaconda/envs/azureml_py38/lib/python3.8/site-packages (from torch->openai-whisper) (2.5)\nRequirement already satisfied: jinja2 in /anaconda/envs/azureml_py38/lib/python3.8/site-packages (from torch->openai-whisper) (2.11.2)\nRequirement already satisfied: nvidia-cuda-nvrtc-cu11==11.7.99 in /anaconda/envs/azureml_py38/lib/python3.8/site-packages (from torch->openai-whisper) (11.7.99)\nRequirement already satisfied: nvidia-cuda-runtime-cu11==11.7.99 in /anaconda/envs/azureml_py38/lib/python3.8/site-packages (from torch->openai-whisper) (11.7.99)\nRequirement already satisfied: nvidia-cuda-cupti-cu11==11.7.101 in /anaconda/envs/azureml_py38/lib/python3.8/site-packages (from torch->openai-whisper) (11.7.101)\nRequirement already satisfied: nvidia-cudnn-cu11==8.5.0.96 in /anaconda/envs/azureml_py38/lib/python3.8/site-packages (from torch->openai-whisper) (8.5.0.96)\nRequirement already satisfied: nvidia-cublas-cu11==11.10.3.66 in /anaconda/envs/azureml_py38/lib/python3.8/site-packages (from torch->openai-whisper) (11.10.3.66)\nRequirement already satisfied: nvidia-cufft-cu11==10.9.0.58 in /anaconda/envs/azureml_py38/lib/python3.8/site-packages (from torch->openai-whisper) (10.9.0.58)\nRequirement already satisfied: nvidia-curand-cu11==10.2.10.91 in /anaconda/envs/azureml_py38/lib/python3.8/site-packages (from torch->openai-whisper) (10.2.10.91)\nRequirement already satisfied: nvidia-cusolver-cu11==11.4.0.1 in /anaconda/envs/azureml_py38/lib/python3.8/site-packages (from torch->openai-whisper) (11.4.0.1)\nRequirement already satisfied: nvidia-cusparse-cu11==11.7.4.91 in /anaconda/envs/azureml_py38/lib/python3.8/site-packages (from torch->openai-whisper) (11.7.4.91)\nRequirement already satisfied: nvidia-nccl-cu11==2.14.3 in /anaconda/envs/azureml_py38/lib/python3.8/site-packages (from torch->openai-whisper) (2.14.3)\nRequirement already satisfied: nvidia-nvtx-cu11==11.7.91 in /anaconda/envs/azureml_py38/lib/python3.8/site-packages (from torch->openai-whisper) (11.7.91)\nRequirement already satisfied: wheel in /anaconda/envs/azureml_py38/lib/python3.8/site-packages (from nvidia-cublas-cu11==11.10.3.66->torch->openai-whisper) (0.37.1)\nRequirement already satisfied: charset-normalizer<4,>=2 in /anaconda/envs/azureml_py38/lib/python3.8/site-packages (from requests>=2.26.0->tiktoken==0.3.1->openai-whisper) (3.0.1)\nRequirement already satisfied: idna<4,>=2.5 in /anaconda/envs/azureml_py38/lib/python3.8/site-packages (from requests>=2.26.0->tiktoken==0.3.1->openai-whisper) (3.4)\nRequirement already satisfied: urllib3<1.27,>=1.21.1 in /anaconda/envs/azureml_py38/lib/python3.8/site-packages (from requests>=2.26.0->tiktoken==0.3.1->openai-whisper) (1.26.14)\nRequirement already satisfied: certifi>=2017.4.17 in /anaconda/envs/azureml_py38/lib/python3.8/site-packages (from requests>=2.26.0->tiktoken==0.3.1->openai-whisper) (2022.9.24)\nRequirement already satisfied: MarkupSafe>=0.23 in /anaconda/envs/azureml_py38/lib/python3.8/site-packages (from jinja2->torch->openai-whisper) (2.0.1)\nRequirement already satisfied: decorator>=4.3.0 in /anaconda/envs/azureml_py38/lib/python3.8/site-packages (from networkx->torch->openai-whisper) (5.1.1)\nRequirement already satisfied: mpmath>=0.19 in /anaconda/envs/azureml_py38/lib/python3.8/site-packages (from sympy->torch->openai-whisper) (1.3.0)\n"
        }
      ],
      "execution_count": 7,
      "metadata": {
        "gather": {
          "logged": 1682790932086
        }
      }
    },
    {
      "cell_type": "code",
      "source": [
        "! sudo apt update && sudo apt install ffmpeg -y"
      ],
      "outputs": [
        {
          "output_type": "stream",
          "name": "stdout",
          "text": "Get:1 file:/var/nccl-repo-2.2.13-ga-cuda9.2  InRelease\nIgn:1 file:/var/nccl-repo-2.2.13-ga-cuda9.2  InRelease\nGet:2 file:/var/nccl-repo-2.2.13-ga-cuda9.2  Release [574 B]\nHit:3 http://azure.archive.ubuntu.com/ubuntu focal InRelease\nGet:2 file:/var/nccl-repo-2.2.13-ga-cuda9.2  Release [574 B]                   \u001b[0m\nHit:4 http://azure.archive.ubuntu.com/ubuntu focal-updates InRelease           \nGet:5 http://azure.archive.ubuntu.com/ubuntu focal-backports InRelease [108 kB]\nGet:6 http://azure.archive.ubuntu.com/ubuntu focal-security InRelease [114 kB] \nHit:7 https://nvidia.github.io/libnvidia-container/stable/ubuntu18.04/amd64  InRelease\nHit:8 https://packages.microsoft.com/repos/azure-cli focal InRelease           \nHit:9 https://nvidia.github.io/nvidia-container-runtime/stable/ubuntu18.04/amd64  InRelease\nHit:10 https://nvidia.github.io/nvidia-docker/ubuntu18.04/amd64  InRelease     \nHit:11 https://packages.microsoft.com/ubuntu/20.04/prod focal InRelease\nHit:12 https://storage.googleapis.com/tensorflow-serving-apt stable InRelease  \u001b[0m\nHit:13 https://cloud.r-project.org/bin/linux/ubuntu focal-cran40/ InRelease    \u001b[0m\nHit:15 https://apt.repos.intel.com/mkl all InRelease                           \u001b[0m\u001b[33m\nHit:16 http://ppa.launchpad.net/cran/libgit2/ubuntu focal InRelease            \nHit:17 http://ppa.launchpad.net/git-core/ppa/ubuntu focal InRelease\nFetched 222 kB in 1s (166 kB/s)\nReading package lists... Done\nBuilding dependency tree       \nReading state information... Done\n65 packages can be upgraded. Run 'apt list --upgradable' to see them.\nReading package lists... Done\nBuilding dependency tree       \nReading state information... Done\nffmpeg is already the newest version (7:4.2.7-0ubuntu0.1).\nThe following packages were automatically installed and are no longer required:\n  ca-certificates-java cmake-data cuda-command-line-tools-11-3\n  cuda-compiler-11-3 cuda-cudart-11-3 cuda-cudart-dev-11-3 cuda-cuobjdump-11-3\n  cuda-cupti-11-3 cuda-cupti-dev-11-3 cuda-cuxxfilt-11-3\n  cuda-documentation-11-3 cuda-driver-dev-11-3 cuda-gdb-11-3\n  cuda-libraries-11-3 cuda-libraries-dev-11-3 cuda-memcheck-11-3\n  cuda-nsight-11-3 cuda-nsight-compute-11-3 cuda-nsight-systems-11-3\n  cuda-nvcc-11-3 cuda-nvdisasm-11-3 cuda-nvml-dev-11-3 cuda-nvprof-11-3\n  cuda-nvprune-11-3 cuda-nvrtc-11-3 cuda-nvrtc-dev-11-3 cuda-nvtx-11-3\n  cuda-nvvp-11-3 cuda-samples-11-3 cuda-sanitizer-11-3 cuda-thrust-11-3\n  cuda-toolkit-11-3 cuda-toolkit-11-3-config-common\n  cuda-toolkit-11-config-common cuda-toolkit-config-common cuda-tools-11-3\n  cuda-visual-tools-11-3 default-jre default-jre-headless fonts-dejavu-extra\n  java-common libatk-wrapper-java libatk-wrapper-java-jni libcublas-11-3\n  libcublas-dev-11-3 libcufft-11-3 libcufft-dev-11-3 libcurand-11-3\n  libcurand-dev-11-3 libcusolver-11-3 libcusolver-dev-11-3 libcusparse-11-3\n  libcusparse-dev-11-3 libjsoncpp1 libnpp-11-3 libnpp-dev-11-3\n  libnvidia-common-530 libnvjpeg-11-3 libnvjpeg-dev-11-3 libpcsclite1\n  librhash0 nsight-compute-2021.1.1 nsight-systems-2021.1.3 openjdk-11-jre\n  openjdk-11-jre-headless\nUse 'sudo apt autoremove' to remove them.\n0 upgraded, 0 newly installed, 0 to remove and 65 not upgraded.\n"
        }
      ],
      "execution_count": 8,
      "metadata": {
        "jupyter": {
          "source_hidden": false,
          "outputs_hidden": false
        },
        "nteract": {
          "transient": {
            "deleting": false
          }
        }
      }
    },
    {
      "cell_type": "code",
      "source": [
        "!pip install --upgrade --no-deps --force-reinstall git+https://github.com/openai/whisper.git"
      ],
      "outputs": [
        {
          "output_type": "stream",
          "name": "stdout",
          "text": "Collecting git+https://github.com/openai/whisper.git\n  Cloning https://github.com/openai/whisper.git to /tmp/pip-req-build-bc7l99x3\n  Running command git clone --filter=blob:none --quiet https://github.com/openai/whisper.git /tmp/pip-req-build-bc7l99x3\n  Resolved https://github.com/openai/whisper.git to commit c09a7ae299c4c34c5839a76380ae407e7d785914\n  Installing build dependencies ... \u001b[?25l-\b \b\\\b \b|\b \b/\b \bdone\n\u001b[?25h  Getting requirements to build wheel ... \u001b[?25l-\b \bdone\n\u001b[?25h  Preparing metadata (pyproject.toml) ... \u001b[?25l-\b \bdone\n\u001b[?25hBuilding wheels for collected packages: openai-whisper\n  Building wheel for openai-whisper (pyproject.toml) ... \u001b[?25l-\b \b\\\b \bdone\n\u001b[?25h  Created wheel for openai-whisper: filename=openai_whisper-20230314-py3-none-any.whl size=798023 sha256=d0387544e66d687bd823a2e7bec1573b45afb8855df04195130e1f06d162e4d5\n  Stored in directory: /tmp/pip-ephem-wheel-cache-f_6dbe9m/wheels/a7/70/18/b7693c07b1d18b3dafb328f5d0496aa0d41a9c09ef332fd8e6\nSuccessfully built openai-whisper\nInstalling collected packages: openai-whisper\n  Attempting uninstall: openai-whisper\n    Found existing installation: openai-whisper 20230314\n    Uninstalling openai-whisper-20230314:\n      Successfully uninstalled openai-whisper-20230314\nSuccessfully installed openai-whisper-20230314\n"
        }
      ],
      "execution_count": 1,
      "metadata": {
        "jupyter": {
          "source_hidden": false,
          "outputs_hidden": false
        },
        "nteract": {
          "transient": {
            "deleting": false
          }
        }
      }
    },
    {
      "cell_type": "code",
      "source": [
        "! pip install setuptools-rust"
      ],
      "outputs": [
        {
          "output_type": "stream",
          "name": "stdout",
          "text": "Requirement already satisfied: setuptools-rust in /anaconda/envs/azureml_py38/lib/python3.8/site-packages (1.6.0)\r\nRequirement already satisfied: setuptools>=62.4 in /anaconda/envs/azureml_py38/lib/python3.8/site-packages (from setuptools-rust) (67.7.2)\r\nRequirement already satisfied: semantic-version<3,>=2.8.2 in /anaconda/envs/azureml_py38/lib/python3.8/site-packages (from setuptools-rust) (2.10.0)\r\nRequirement already satisfied: typing-extensions>=3.7.4.3 in /anaconda/envs/azureml_py38/lib/python3.8/site-packages (from setuptools-rust) (4.4.0)\r\n"
        }
      ],
      "execution_count": 2,
      "metadata": {
        "jupyter": {
          "source_hidden": false,
          "outputs_hidden": false
        },
        "nteract": {
          "transient": {
            "deleting": false
          }
        }
      }
    },
    {
      "cell_type": "code",
      "source": [
        "!whisper eminemTest.mp3 --model large"
      ],
      "outputs": [
        {
          "output_type": "stream",
          "name": "stdout",
          "text": "Traceback (most recent call last):\r\n  File \"/anaconda/envs/azureml_py38/bin/whisper\", line 8, in <module>\r\n    sys.exit(cli())\r\n  File \"/anaconda/envs/azureml_py38/lib/python3.8/site-packages/whisper/transcribe.py\", line 436, in cli\r\n    model = load_model(model_name, device=device, download_root=model_dir)\r\n  File \"/anaconda/envs/azureml_py38/lib/python3.8/site-packages/whisper/__init__.py\", line 144, in load_model\r\n    checkpoint = torch.load(fp, map_location=device)\r\n  File \"/anaconda/envs/azureml_py38/lib/python3.8/site-packages/torch/serialization.py\", line 809, in load\r\n    return _load(opened_zipfile, map_location, pickle_module, **pickle_load_args)\r\n  File \"/anaconda/envs/azureml_py38/lib/python3.8/site-packages/torch/serialization.py\", line 1172, in _load\r\n    result = unpickler.load()\r\n  File \"/anaconda/envs/azureml_py38/lib/python3.8/site-packages/torch/serialization.py\", line 1142, in persistent_load\r\n    typed_storage = load_tensor(dtype, nbytes, key, _maybe_decode_ascii(location))\r\n  File \"/anaconda/envs/azureml_py38/lib/python3.8/site-packages/torch/serialization.py\", line 1116, in load_tensor\r\n    wrap_storage=restore_location(storage, location),\r\n  File \"/anaconda/envs/azureml_py38/lib/python3.8/site-packages/torch/serialization.py\", line 1083, in restore_location\r\n    return default_restore_location(storage, map_location)\r\n  File \"/anaconda/envs/azureml_py38/lib/python3.8/site-packages/torch/serialization.py\", line 217, in default_restore_location\r\n    result = fn(storage, location)\r\n  File \"/anaconda/envs/azureml_py38/lib/python3.8/site-packages/torch/serialization.py\", line 187, in _cuda_deserialize\r\n    return obj.cuda(device)\r\n  File \"/anaconda/envs/azureml_py38/lib/python3.8/site-packages/torch/_utils.py\", line 81, in _cuda\r\n    untyped_storage = torch.UntypedStorage(\r\ntorch.cuda.OutOfMemoryError: CUDA out of memory. Tried to allocate 20.00 MiB (GPU 0; 11.17 GiB total capacity; 1.03 GiB already allocated; 19.25 MiB free; 1.11 GiB reserved in total by PyTorch) If reserved memory is >> allocated memory try setting max_split_size_mb to avoid fragmentation.  See documentation for Memory Management and PYTORCH_CUDA_ALLOC_CONF\r\n"
        }
      ],
      "execution_count": 3,
      "metadata": {
        "jupyter": {
          "source_hidden": false,
          "outputs_hidden": false
        },
        "nteract": {
          "transient": {
            "deleting": false
          }
        }
      }
    }
  ],
  "metadata": {
    "kernelspec": {
      "display_name": "Python 3.10 - SDK v2",
      "language": "python",
      "name": "python310-sdkv2"
    },
    "language_info": {
      "name": "python",
      "version": "3.10.10",
      "mimetype": "text/x-python",
      "codemirror_mode": {
        "name": "ipython",
        "version": 3
      },
      "pygments_lexer": "ipython3",
      "nbconvert_exporter": "python",
      "file_extension": ".py"
    },
    "microsoft": {
      "ms_spell_check": {
        "ms_spell_check_language": "en"
      }
    },
    "nteract": {
      "version": "nteract-front-end@1.0.0"
    }
  },
  "nbformat": 4,
  "nbformat_minor": 2
}